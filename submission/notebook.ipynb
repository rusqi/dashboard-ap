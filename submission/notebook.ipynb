{
  "cells": [
    {
      "cell_type": "markdown",
      "metadata": {
        "id": "H9wADwK78DCz"
      },
      "source": [
        "# Proyek Analisis Data: Bike Sharing Dataset\n",
        "- **Nama:** Muhammad Rusqi Ash Shiddieqy\n",
        "- **Email:** muhammadrusqi10@gmail.com\n",
        "- **ID Dicoding:** Muhammad Rusqi Ash Shiddieqy"
      ]
    },
    {
      "cell_type": "markdown",
      "metadata": {
        "id": "eE0raob58DC0"
      },
      "source": [
        "## Menentukan Pertanyaan Bisnis"
      ]
    },
    {
      "cell_type": "markdown",
      "metadata": {
        "id": "GmQeQ5YF8DC0"
      },
      "source": [
        "- Bagaimana pengaruh cuaca terhadap jumlah pengguna sepeda kasual dan terdaftar di berbagai musim?\n",
        "- Apakah terdapat pola penggunaan sepeda yang signifikan antara hari kerja dan hari libur?"
      ]
    },
    {
      "cell_type": "markdown",
      "metadata": {
        "id": "H-z4QGlO8DC1"
      },
      "source": [
        "## Import Semua Packages/Library yang Digunakan"
      ]
    },
    {
      "cell_type": "code",
      "execution_count": null,
      "metadata": {
        "id": "FVYwaObI8DC1"
      },
      "outputs": [],
      "source": [
        "# Import library untuk manipulasi data\n",
        "import numpy as np  # Untuk operasi matematika dan array\n",
        "import pandas as pd # Untuk manipulasi dan analisis data\n",
        "\n",
        "# Import library untuk visualisasi data\n",
        "import matplotlib.pyplot as plt # Untuk membuat grafik dan visualisasi\n",
        "import seaborn as sns # Untuk visualisasi statistik\n",
        "\n",
        "# Import library untuk analisis statistik\n",
        "import scipy.stats as stats # Untuk melakukan uji statistik\n",
        "# Set default style untuk visualisasi\n",
        "sns.set(style=\"whitegrid\")"
      ]
    },
    {
      "cell_type": "markdown",
      "metadata": {
        "id": "h_Sh51Xy8DC1"
      },
      "source": [
        "## Data Wrangling"
      ]
    },
    {
      "cell_type": "markdown",
      "metadata": {
        "id": "sXU2GBYu8DC1"
      },
      "source": [
        "### Gathering Data"
      ]
    },
    {
      "cell_type": "code",
      "execution_count": null,
      "metadata": {
        "id": "zjCBk1BI8DC1"
      },
      "outputs": [],
      "source": [
        "day_df = pd.read_csv('data/day.csv')\n",
        "day_df.head()\n",
        "# Melihat 5 baris pertama dari data daily"
      ]
    },
    {
      "cell_type": "markdown",
      "metadata": {
        "id": "MMi6xGaDkbCi"
      },
      "source": [
        "**Insight:**\n",
        "- Memuat tabel `day.csv` pada data Bike Sharing Dataset."
      ]
    },
    {
      "cell_type": "code",
      "execution_count": null,
      "metadata": {
        "id": "32aewI8-ILBH"
      },
      "outputs": [],
      "source": [
        "hour_df = pd.read_csv('data/hour.csv')\n",
        "hour_df.head()\n",
        "# Melihat 5 baris pertama dari data hourly"
      ]
    },
    {
      "cell_type": "markdown",
      "metadata": {
        "id": "0L2d9lYJIQjg"
      },
      "source": [
        "**Insight:**\n",
        "- Memuat tabel `hour.csv` pada data Bike Sharing Dataset."
      ]
    },
    {
      "cell_type": "markdown",
      "metadata": {
        "id": "FHSiqaZp8DC1"
      },
      "source": [
        "### Assessing Data"
      ]
    },
    {
      "cell_type": "markdown",
      "metadata": {
        "id": "7dtxhAPrkhPL"
      },
      "source": [
        "**Insight:**\n",
        "- Menilai Tabel `day_df`"
      ]
    },
    {
      "cell_type": "code",
      "execution_count": null,
      "metadata": {
        "id": "ax-3tEjc9Cj1"
      },
      "outputs": [],
      "source": [
        "day_df.info()\n",
        "# Informasi umum tentang data daily"
      ]
    },
    {
      "cell_type": "code",
      "execution_count": null,
      "metadata": {
        "id": "4h4UBiJVJ1QC"
      },
      "outputs": [],
      "source": [
        "day_df.describe()\n",
        "# Statistik deskriptif untuk data daily"
      ]
    },
    {
      "cell_type": "code",
      "execution_count": null,
      "metadata": {
        "id": "jVnYpprE9Evz"
      },
      "outputs": [],
      "source": [
        "day_df.duplicated().sum()\n",
        "# Memeriksa duplikasi data dalam data daily"
      ]
    },
    {
      "cell_type": "code",
      "execution_count": null,
      "metadata": {
        "id": "Cn89XmxsJ8Xo"
      },
      "outputs": [],
      "source": [
        "day_df.isnull().sum()\n",
        "# Memeriksa nilai yang hilang dalam data daily"
      ]
    },
    {
      "cell_type": "markdown",
      "metadata": {
        "id": "jw1MnMhwJ9FY"
      },
      "source": [
        "**Insight:**\n",
        "- Menilai Tabel `hour_df`"
      ]
    },
    {
      "cell_type": "code",
      "execution_count": null,
      "metadata": {
        "id": "KULrRNvAmng5"
      },
      "outputs": [],
      "source": [
        "hour_df.info()\n",
        "# Informasi umum tentang data hourly"
      ]
    },
    {
      "cell_type": "code",
      "execution_count": null,
      "metadata": {
        "id": "oVGKsvWwow-r"
      },
      "outputs": [],
      "source": [
        "hour_df.describe()\n",
        "# Statistik deskriptif untuk data hourly"
      ]
    },
    {
      "cell_type": "code",
      "execution_count": null,
      "metadata": {
        "id": "Vd5wKLimqd-C"
      },
      "outputs": [],
      "source": [
        "hour_df.duplicated().sum()\n",
        "# Memeriksa duplikasi data dalam data hourly"
      ]
    },
    {
      "cell_type": "code",
      "execution_count": null,
      "metadata": {
        "id": "2pzNdhH3o4GO"
      },
      "outputs": [],
      "source": [
        "hour_df.isnull().sum()\n",
        "# Memeriksa nilai yang hilang dalam data hourly"
      ]
    },
    {
      "cell_type": "markdown",
      "metadata": {
        "id": "EhN5R4hr8DC1"
      },
      "source": [
        "### Cleaning Data"
      ]
    },
    {
      "cell_type": "markdown",
      "metadata": {
        "id": "8-sAcDP1pnrK"
      },
      "source": [
        "**Insight:**\n",
        "- Membersihkan tabel `day_df`\n"
      ]
    },
    {
      "cell_type": "code",
      "execution_count": null,
      "metadata": {
        "id": "OiOwJt0LEwFk"
      },
      "outputs": [],
      "source": [
        "day_df.info()"
      ]
    },
    {
      "cell_type": "code",
      "execution_count": null,
      "metadata": {
        "id": "EW-JqhZjE9Yz"
      },
      "outputs": [],
      "source": [
        "# Mengidentifikasi kolom yang perlu diubah menjadi tipe datetime\n",
        "datetime_columns_day = [\"dteday\"]\n",
        "\n",
        "# Ubah kolom menjadi tipe datetime\n",
        "for column in datetime_columns_day:\n",
        "    day_df[column] = pd.to_datetime(day_df[column])\n",
        "\n",
        "# Memeriksa kolom kategori untuk dikonversi\n",
        "categorical_columns_day = ['season', 'weathersit', 'weekday', 'holiday', 'workingday']\n",
        "\n",
        "# Ubah kolom kategori menjadi tipe kategori\n",
        "for column in categorical_columns_day:\n",
        "    day_df[column] = day_df[column].astype('category')\n",
        "\n",
        "# Memeriksa tipe data setelah perubahan\n",
        "print(\"\\nTipe data di day_df setelah perbaikan:\")\n",
        "print(day_df.info())"
      ]
    },
    {
      "cell_type": "code",
      "execution_count": null,
      "metadata": {
        "id": "xkEui11AFgiA"
      },
      "outputs": [],
      "source": [
        "day_df.head()"
      ]
    },
    {
      "cell_type": "markdown",
      "metadata": {
        "id": "qsPmfhGEv3K3"
      },
      "source": [
        "**Insight:**\n",
        "- Membersihkan tabel `hour_df`\n"
      ]
    },
    {
      "cell_type": "code",
      "execution_count": null,
      "metadata": {
        "id": "ESx8cFyAu6pV"
      },
      "outputs": [],
      "source": [
        "hour_df.describe()"
      ]
    },
    {
      "cell_type": "code",
      "execution_count": null,
      "metadata": {
        "id": "kXxDwgOQ-gx9"
      },
      "outputs": [],
      "source": [
        "print(\"nilai rata-rata = {} & nilai maksimum cnt(jumlah peminjaman) = {}\".format(hour_df['cnt'].mean(), hour_df['cnt'].max()))"
      ]
    },
    {
      "cell_type": "markdown",
      "metadata": {
        "id": "nF1ArRaiu7fK"
      },
      "source": [
        "**Insight:**\n",
        "Inaccurate Data pada `cnt` (jumlah peminjaman) dalam `hour_df`\n",
        "\n",
        "Langkah Pembersihan Data untuk Mengatasi Anomali pada `cnt`:\n",
        "1. Identifikasi Anomali (Misalnya, kita asumsikan peminjaman diatas 1,5 kali rata-rata sebagai anomali)\n",
        "2. Hapus Anomali (Setelah mengidentifikasi nilai yang dianggap anomali, kita dapat menghapusnya dari dataset)\n",
        "3. Verifikasi Pembersihan (Periksa kembali data setelah pembersihan untuk memastikan bahwa anomali telah dihapus)"
      ]
    },
    {
      "cell_type": "code",
      "execution_count": null,
      "metadata": {
        "id": "5YVgz5Lop_8C"
      },
      "outputs": [],
      "source": [
        "cnt_mean = hour_df['cnt'].mean() # Hitung rata-rata untuk kolom cnt\n",
        "\n",
        "threshold = 1.5 * cnt_mean # Tentukan ambang batas untuk anomali\n",
        "\n",
        "# Identifikasi anomali\n",
        "anomalies = hour_df[hour_df['cnt'] > threshold]\n",
        "print(f\"Jumlah anomali yang ditemukan: {len(anomalies)}\")\n",
        "\n",
        "# Hapus anomali dari dataset\n",
        "hour_df_cleaned = hour_df[hour_df['cnt'] <= threshold]\n",
        "\n",
        "# Verifikasi pembersihan\n",
        "# Memeriksa statistik deskriptif setelah pembersihan\n",
        "print(\"\\nStatistik Deskriptif Setelah Pembersihan:\")\n",
        "print(hour_df_cleaned['cnt'].describe())"
      ]
    },
    {
      "cell_type": "markdown",
      "metadata": {
        "id": "Q_5ejIqckiSP"
      },
      "source": [
        "**Insight:**\n",
        "Memperbaiki Tipe Data `dteday`(datetime) dalam `hour_df`\n",
        "\n",
        "Langkah-langkah untuk memperbaiki tipe data di tabel `hour_df`:\n",
        "1. Tentukan Kolom yang Perlu Menjadi Tipe Datetime.\n",
        "2. Ubah Tipe Data Kolom yang Sesuai."
      ]
    },
    {
      "cell_type": "code",
      "execution_count": null,
      "metadata": {
        "id": "hYU8P5O7D7eh"
      },
      "outputs": [],
      "source": [
        "hour_df.info()"
      ]
    },
    {
      "cell_type": "code",
      "execution_count": null,
      "metadata": {
        "id": "R1cQClwnBDiJ"
      },
      "outputs": [],
      "source": [
        "# Mengidentifikasi kolom yang perlu diubah menjadi tipe datetime\n",
        "datetime_columns_hour = [\"dteday\"]\n",
        "\n",
        "# Ubah kolom menjadi tipe datetime\n",
        "for column in datetime_columns_hour:\n",
        "    hour_df[column] = pd.to_datetime(hour_df[column])\n",
        "\n",
        "# Memeriksa kolom kategori untuk dikonversi\n",
        "categorical_columns_hour = ['season', 'weathersit', 'weekday', 'holiday', 'workingday']\n",
        "\n",
        "# Ubah kolom kategori menjadi tipe kategori\n",
        "for column in categorical_columns_hour:\n",
        "    hour_df[column] = hour_df[column].astype('category')\n",
        "\n",
        "# Memeriksa tipe data setelah perubahan\n",
        "print(\"\\nTipe data di hour_df setelah perbaikan:\")\n",
        "print(hour_df.info())"
      ]
    },
    {
      "cell_type": "code",
      "execution_count": null,
      "metadata": {
        "id": "W-M4WiasEj3O"
      },
      "outputs": [],
      "source": [
        "hour_df.head()"
      ]
    },
    {
      "cell_type": "markdown",
      "metadata": {
        "id": "LgFZHPR9HLeL"
      },
      "source": [
        "## Menggabungkan data `day_df` dan `hour_df`"
      ]
    },
    {
      "cell_type": "code",
      "execution_count": null,
      "metadata": {
        "id": "u4-mA8GyHHun"
      },
      "outputs": [],
      "source": [
        "# Menggabungkan tabel day_df dan hour_df\n",
        "day_hour_df = pd.merge(\n",
        "    left=hour_df,\n",
        "    right=day_df,\n",
        "    how=\"outer\",\n",
        "    left_on=\"dteday\",  # Kolom yang digunakan dari hour_df\n",
        "    right_on=\"dteday\",  # Kolom yang digunakan dari day_df\n",
        "    suffixes=('_hour', '_day')\n",
        ")\n",
        "day_hour_df.head()"
      ]
    },
    {
      "cell_type": "code",
      "execution_count": null,
      "metadata": {
        "id": "FecQ3GvoIZ-3"
      },
      "outputs": [],
      "source": [
        "day_hour_df.nunique()  # Melihat jumlah nilai unik dalam setiap kolom"
      ]
    },
    {
      "cell_type": "markdown",
      "metadata": {
        "id": "gp-Y6wU38DC1"
      },
      "source": [
        "## Exploratory Data Analysis (EDA)"
      ]
    },
    {
      "cell_type": "markdown",
      "metadata": {
        "id": "MW7WF2kr8DC1"
      },
      "source": [
        "### Explore `day_df`"
      ]
    },
    {
      "cell_type": "code",
      "execution_count": null,
      "metadata": {
        "id": "e9CQCZjk8DC2"
      },
      "outputs": [],
      "source": [
        "day_df.describe(include=\"all\")"
      ]
    },
    {
      "cell_type": "code",
      "execution_count": null,
      "metadata": {
        "id": "yFnB2TyicaH8"
      },
      "outputs": [],
      "source": [
        "day_df.groupby(by=\"season\").agg({\n",
        "    \"cnt\": [\"nunique\", \"max\", \"min\", \"mean\", \"std\"]\n",
        "}).reset_index()"
      ]
    },
    {
      "cell_type": "markdown",
      "metadata": {
        "id": "th_Lzl2Fkj9O"
      },
      "source": [
        "**Insight:**\n",
        "- Mengelompokkan berdasarkan 'season'\n",
        "- Menghitung agregasi peminjaman"
      ]
    },
    {
      "cell_type": "code",
      "execution_count": null,
      "metadata": {
        "id": "FKzOIs0ZSHdp"
      },
      "outputs": [],
      "source": [
        "day_df.groupby(by=\"yr\").agg({\n",
        "    \"cnt\": [\"nunique\", \"max\", \"min\", \"mean\", \"std\"]\n",
        "}).reset_index()"
      ]
    },
    {
      "cell_type": "markdown",
      "metadata": {
        "id": "rKan2vWbSJbD"
      },
      "source": [
        "**Insight:**\n",
        "- Mengelompokkan berdasarkan 'year'\n",
        "- Menghitung agregasi peminjaman"
      ]
    },
    {
      "cell_type": "code",
      "execution_count": null,
      "metadata": {
        "id": "dXOHpys5SN89"
      },
      "outputs": [],
      "source": [
        "day_df.groupby(by=\"mnth\").agg({\n",
        "    \"cnt\": [\"nunique\", \"max\", \"min\", \"mean\", \"std\"]\n",
        "}).reset_index()"
      ]
    },
    {
      "cell_type": "markdown",
      "metadata": {
        "id": "EpbZtss5SPj3"
      },
      "source": [
        "**Insight:**\n",
        "- Mengelompokkan berdasarkan 'month'\n",
        "- Menghitung agregasi peminjaman"
      ]
    },
    {
      "cell_type": "code",
      "execution_count": null,
      "metadata": {
        "id": "eMbNHJDLdlLE"
      },
      "outputs": [],
      "source": [
        "day_df.groupby(by=\"weekday\").agg({\n",
        "    \"cnt\": [\"nunique\", \"max\", \"min\", \"mean\", \"std\"]\n",
        "}).reset_index()"
      ]
    },
    {
      "cell_type": "markdown",
      "metadata": {
        "id": "cp-HfmHWdzM2"
      },
      "source": [
        "**Insight:**\n",
        "- Mengelompokkan berdasarkan 'weekday'\n",
        "- Menghitung agregasi peminjaman"
      ]
    },
    {
      "cell_type": "code",
      "execution_count": null,
      "metadata": {
        "id": "BmrNfzTJSaTQ"
      },
      "outputs": [],
      "source": [
        "day_df.groupby(by=\"workingday\").agg({\n",
        "    \"cnt\": [\"nunique\", \"max\", \"min\", \"mean\", \"std\"]\n",
        "}).reset_index()"
      ]
    },
    {
      "cell_type": "markdown",
      "metadata": {
        "id": "VmWbT2IfSdMM"
      },
      "source": [
        "**Insight:**\n",
        "- Mengelompokkan berdasarkan 'working day'\n",
        "- Menghitung agregasi peminjaman"
      ]
    },
    {
      "cell_type": "code",
      "execution_count": null,
      "metadata": {
        "id": "y50cCCVhd5zb"
      },
      "outputs": [],
      "source": [
        "day_df.groupby(by=\"holiday\").agg({\n",
        "    \"cnt\": [\"nunique\", \"max\", \"min\", \"mean\", \"std\"]\n",
        "}).reset_index()"
      ]
    },
    {
      "cell_type": "markdown",
      "metadata": {
        "id": "sKBfzx01d5go"
      },
      "source": [
        "**Insight:**\n",
        "- Mengelompokkan berdasarkan 'holiday'\n",
        "- Menghitung agregasi peminjaman"
      ]
    },
    {
      "cell_type": "code",
      "execution_count": null,
      "metadata": {
        "id": "wfupvSDreSMm"
      },
      "outputs": [],
      "source": [
        "day_df.groupby(by=\"weathersit\").agg({\n",
        "    \"cnt\": [\"nunique\", \"max\", \"min\", \"mean\", \"std\"]\n",
        "}).reset_index()"
      ]
    },
    {
      "cell_type": "markdown",
      "metadata": {
        "id": "vG0Rr6_oeiZE"
      },
      "source": [
        "**Insight:**\n",
        "- Mengelompokkan berdasarkan 'weathersit'\n",
        "- Menghitung agregasi peminjaman"
      ]
    },
    {
      "cell_type": "markdown",
      "metadata": {
        "id": "uNmwh-x9gAAb"
      },
      "source": [
        "### Explore `hour_df`"
      ]
    },
    {
      "cell_type": "code",
      "execution_count": null,
      "metadata": {
        "id": "ZnJKhXOcgFKv"
      },
      "outputs": [],
      "source": [
        "hour_df.describe(include=\"all\")"
      ]
    },
    {
      "cell_type": "code",
      "execution_count": null,
      "metadata": {
        "id": "z7IPuUy3gIw6"
      },
      "outputs": [],
      "source": [
        "hour_df.groupby(by=\"season\").agg({\n",
        "    \"cnt\": [\"nunique\", \"max\", \"min\", \"mean\", \"std\"]\n",
        "}).reset_index()"
      ]
    },
    {
      "cell_type": "markdown",
      "metadata": {
        "id": "ZNYs5nhVgUhV"
      },
      "source": [
        "**Insight:**\n",
        "- Mengelompokkan berdasarkan 'season'\n",
        "- Menghitung agregasi peminjaman"
      ]
    },
    {
      "cell_type": "code",
      "execution_count": null,
      "metadata": {
        "id": "uUTSQO-cTE_5"
      },
      "outputs": [],
      "source": [
        "hour_df.groupby(by=\"yr\").agg({\n",
        "    \"cnt\": [\"nunique\", \"max\", \"min\", \"mean\", \"std\"]\n",
        "}).reset_index()"
      ]
    },
    {
      "cell_type": "markdown",
      "metadata": {
        "id": "37eHrmljTKTo"
      },
      "source": [
        "**Insight:**\n",
        "- Mengelompokkan berdasarkan 'year'\n",
        "- Menghitung agregasi peminjaman"
      ]
    },
    {
      "cell_type": "code",
      "execution_count": null,
      "metadata": {
        "id": "RprfPqH7TO0m"
      },
      "outputs": [],
      "source": [
        "hour_df.groupby(by=\"mnth\").agg({\n",
        "    \"cnt\": [\"nunique\", \"max\", \"min\", \"mean\", \"std\"]\n",
        "}).reset_index()"
      ]
    },
    {
      "cell_type": "markdown",
      "metadata": {
        "id": "CsYu_dhJTWnV"
      },
      "source": [
        "**Insight:**\n",
        "- Mengelompokkan berdasarkan 'month'\n",
        "- Menghitung agregasi peminjaman"
      ]
    },
    {
      "cell_type": "code",
      "execution_count": null,
      "metadata": {
        "id": "yHC5Soa9gWIX"
      },
      "outputs": [],
      "source": [
        "hour_df.groupby(by=\"weekday\").agg({\n",
        "    \"cnt\": [\"nunique\", \"max\", \"min\", \"mean\", \"std\"]\n",
        "}).reset_index()"
      ]
    },
    {
      "cell_type": "markdown",
      "metadata": {
        "id": "_iJxgTk4f_08"
      },
      "source": [
        "**Insight:**\n",
        "- Mengelompokkan berdasarkan 'weekday'\n",
        "- Menghitung agregasi peminjaman"
      ]
    },
    {
      "cell_type": "code",
      "execution_count": null,
      "metadata": {
        "id": "lVayxPtLTbSt"
      },
      "outputs": [],
      "source": [
        "hour_df.groupby(by=\"workingday\").agg({\n",
        "    \"cnt\": [\"nunique\", \"max\", \"min\", \"mean\", \"std\"]\n",
        "}).reset_index()"
      ]
    },
    {
      "cell_type": "markdown",
      "metadata": {
        "id": "0m2D2f4lTi9-"
      },
      "source": [
        "**Insight:**\n",
        "- Mengelompokkan berdasarkan 'working day'\n",
        "- Menghitung agregasi peminjaman"
      ]
    },
    {
      "cell_type": "code",
      "execution_count": null,
      "metadata": {
        "id": "zJ1mPxpWgfH1"
      },
      "outputs": [],
      "source": [
        "hour_df.groupby(by=\"holiday\").agg({\n",
        "    \"cnt\": [\"nunique\", \"max\", \"min\", \"mean\", \"std\"]\n",
        "}).reset_index()"
      ]
    },
    {
      "cell_type": "markdown",
      "metadata": {
        "id": "pSYUvj48gnK5"
      },
      "source": [
        "**Insight:**\n",
        "- Mengelompokkan berdasarkan 'holiday'\n",
        "- Menghitung agregasi peminjaman"
      ]
    },
    {
      "cell_type": "code",
      "execution_count": null,
      "metadata": {
        "id": "_Cm1hoe2gkmD"
      },
      "outputs": [],
      "source": [
        "hour_df.groupby(by=\"weathersit\").agg({\n",
        "    \"cnt\": [\"nunique\", \"max\", \"min\", \"mean\", \"std\"]\n",
        "}).reset_index()"
      ]
    },
    {
      "cell_type": "markdown",
      "metadata": {
        "id": "iddENCowguoX"
      },
      "source": [
        "**Insight:**\n",
        "- Mengelompokkan berdasarkan 'weathersit'\n",
        "- Menghitung agregasi peminjaman"
      ]
    },
    {
      "cell_type": "markdown",
      "metadata": {
        "id": "zsyZjqak8DC2"
      },
      "source": [
        "## Visualization & Explanatory Analysis"
      ]
    },
    {
      "cell_type": "markdown",
      "metadata": {
        "id": "HZxOiQ6n8DC2"
      },
      "source": [
        "\n",
        "### Pertanyaan 1: Bagaimana pengaruh cuaca terhadap jumlah pengguna sepeda kasual dan terdaftar di berbagai musim?"
      ]
    },
    {
      "cell_type": "code",
      "execution_count": null,
      "metadata": {
        "id": "xkg3W62fCMv2"
      },
      "outputs": [],
      "source": [
        "day_hour_df.head()"
      ]
    },
    {
      "cell_type": "code",
      "execution_count": null,
      "metadata": {
        "id": "1swJUdAD8DC2"
      },
      "outputs": [],
      "source": [
        "weather_season_grouped = day_df.groupby(by=[\"season\", \"weathersit\"]).agg({\n",
        "    \"casual\": \"mean\",\n",
        "    \"registered\": \"mean\"\n",
        "}).reset_index()\n",
        "\n",
        "season_mapping = {1: \"Semi\", 2: \"Panas\", 3: \"Gugur\", 4: \"Dingin\"}\n",
        "weather_season_grouped['season'] = weather_season_grouped['season'].map(season_mapping)\n",
        "\n",
        "plt.figure(figsize=(12, 6))\n",
        "\n",
        "plt.subplot(1, 2, 1)\n",
        "sns.barplot(x=\"season\", y=\"casual\", hue=\"weathersit\", data=weather_season_grouped, palette=\"Blues\")\n",
        "plt.title(\"Pengaruh Cuaca Terhadap Pengguna Sepeda Kasual di Berbagai Musim\")\n",
        "plt.ylabel(\"Rata-Rata Pengguna Kasual\")\n",
        "plt.xlabel(\"Musim\")\n",
        "plt.legend(title=\"Kondisi Cuaca\")\n",
        "\n",
        "plt.tight_layout()\n",
        "plt.show()\n"
      ]
    },
    {
      "cell_type": "markdown",
      "metadata": {
        "id": "FCT7DWidKRpv"
      },
      "source": [
        "**Insight:**\n",
        "\n",
        "Penjelasan Musim:\n",
        "- Musim Semi: Musim yang dipetakan ke nomor 1.\n",
        "- Musim Panas: Musim yang dipetakan ke nomor 2.\n",
        "- Musim Gugur: Musim yang dipetakan ke nomor 3.\n",
        "- Musim Dingin: Musim yang dipetakan ke nomor 4\n",
        "\n",
        "Pengguna Kasual:\n",
        "\n",
        "- Musim Panas dan Musim Gugur menunjukkan jumlah pengguna kasual tertinggi, terutama ketika cuaca baik (kondisi cuaca = 1: Cerah, Sedikit Awan). Ini mengindikasikan bahwa pengguna kasual lebih mungkin menyewa sepeda saat cuaca mendukung, terutama di musim yang lebih hangat.\n",
        "- Di Musim Dingin, jumlah pengguna kasual menurun drastis. Ketika cuaca buruk (kondisi cuaca = 3: Hujan ringan, Salju ringan), penggunaan sepeda oleh pengguna kasual sangat sedikit. Ini menunjukkan bahwa cuaca dingin dan buruk sangat mempengaruhi keputusan pengguna kasual untuk menggunakan sepeda.\n",
        "\n",
        "Secara keseluruhan, pengguna kasual sangat sensitif terhadap perubahan cuaca dan musim, lebih cenderung menyewa sepeda di musim panas dan gugur, dengan penurunan tajam di musim dingin dan kondisi cuaca buruk."
      ]
    },
    {
      "cell_type": "code",
      "execution_count": null,
      "metadata": {
        "id": "IirfWPw1Ubdo"
      },
      "outputs": [],
      "source": [
        "plt.figure(figsize=(12, 6))\n",
        "\n",
        "plt.subplot(1, 2, 2)\n",
        "sns.barplot(x=\"season\", y=\"registered\", hue=\"weathersit\", data=weather_season_grouped, palette=\"Greens\")\n",
        "plt.title(\"Pengaruh Cuaca Terhadap Pengguna Sepeda Terdaftar di Berbagai Musim\")\n",
        "plt.ylabel(\"Rata-Rata Pengguna Terdaftar\")\n",
        "plt.xlabel(\"Musim\")\n",
        "plt.legend(title=\"Kondisi Cuaca\")\n",
        "\n",
        "plt.tight_layout()\n",
        "plt.show()"
      ]
    },
    {
      "cell_type": "markdown",
      "metadata": {
        "id": "3fodaRusZR5U"
      },
      "source": [
        "**Insight:**\n",
        "\n",
        "Penjelasan Musim:\n",
        "- Musim Semi: Musim yang dipetakan ke nomor 1.\n",
        "- Musim Panas: Musim yang dipetakan ke nomor 2.\n",
        "- Musim Gugur: Musim yang dipetakan ke nomor 3.\n",
        "- Musim Dingin: Musim yang dipetakan ke nomor 4\n",
        "\n",
        "Pengguna Terdaftar:\n",
        "\n",
        "- Pengguna terdaftar menunjukkan pola yang lebih stabil dibandingkan dengan pengguna kasual, tetapi tetap terdapat penurunan jumlah penyewaan di musim dingin dan saat cuaca buruk. Namun, penurunan ini tidak se-drastis pengguna kasual.\n",
        "- Pengguna terdaftar lebih mungkin untuk terus menggunakan layanan sepeda bahkan saat kondisi cuaca tidak ideal, terutama di Musim Panas dan Musim Gugur. Hal ini menunjukkan bahwa pengguna terdaftar mungkin menggunakan sepeda untuk perjalanan rutin seperti bekerja atau kegiatan sehari-hari, yang membuat mereka lebih konsisten.\n",
        "\n",
        "Walaupun jumlah penyewaan menurun pada cuaca buruk, pengguna terdaftar masih lebih aktif dibandingkan pengguna kasual, menunjukkan bahwa mereka mungkin memiliki motivasi yang lebih kuat (misalnya, komitmen berlangganan, transportasi harian)."
      ]
    },
    {
      "cell_type": "markdown",
      "metadata": {
        "id": "DgHI7CiU8DC2"
      },
      "source": [
        "### Pertanyaan 2: Apakah terdapat pola penggunaan sepeda yang signifikan antara hari kerja dan hari libur?"
      ]
    },
    {
      "cell_type": "code",
      "execution_count": null,
      "metadata": {
        "id": "Go0lCsvO8DC2"
      },
      "outputs": [],
      "source": [
        "day_df['workingday'] = day_df['workingday'].map({1: \"Hari Kerja\", 0: \"Bukan Hari Kerja\"})\n",
        "\n",
        "# Grouping by working day (Hari Kerja vs Bukan Hari Kerja)\n",
        "workingday_grouped = day_df.groupby(by=\"workingday\").agg({\n",
        "    \"casual\": \"mean\",\n",
        "    \"registered\": \"mean\"\n",
        "}).reset_index()\n",
        "\n",
        "plt.figure(figsize=(12, 6))\n",
        "\n",
        "# Subplot untuk hari kerja vs bukan hari kerja\n",
        "plt.subplot(1, 2, 1)\n",
        "sns.barplot(x=\"workingday\", y=\"casual\", data=workingday_grouped, color=\"blue\", label=\"Casual\")\n",
        "sns.barplot(x=\"workingday\", y=\"registered\", data=workingday_grouped, color=\"green\", alpha=0.6, label=\"Registered\")\n",
        "plt.title(\"Penggunaan Sepeda pada Hari Kerja vs Bukan Hari Kerja\")\n",
        "plt.xlabel(\"Jenis Hari\")\n",
        "plt.ylabel(\"Rata-rata Pengguna Sepeda\")\n",
        "plt.legend()\n",
        "\n",
        "\n",
        "plt.tight_layout()\n",
        "plt.show()"
      ]
    },
    {
      "cell_type": "markdown",
      "metadata": {
        "id": "_0-36BDLklRg"
      },
      "source": [
        "**Insight:**\n",
        "\n",
        "Penggunaan Sepeda pada Hari Kerja vs Bukan Hari Kerja:\n",
        "- Pengguna Kasual: Lebih banyak menggunakan sepeda pada hari bukan kerja (akhir pekan) dibandingkan dengan hari kerja. Ini menunjukkan bahwa pengguna kasual cenderung menggunakan sepeda untuk rekreasi atau kegiatan santai selama akhir pekan.\n",
        "- Pengguna Terdaftar: Lebih aktif pada hari kerja, menunjukkan bahwa mereka lebih sering menggunakan sepeda untuk keperluan transportasi harian seperti pergi bekerja atau kegiatan rutin."
      ]
    },
    {
      "cell_type": "code",
      "execution_count": null,
      "metadata": {
        "id": "5ltJkEYfcA6k"
      },
      "outputs": [],
      "source": [
        "day_df['holiday'] = day_df['holiday'].map({1: \"Hari Libur\", 0: \"Bukan Hari Libur\"})\n",
        "\n",
        "# Grouping by holiday (Hari Libur vs Bukan Hari Libur)\n",
        "holiday_grouped = day_df.groupby(by=\"holiday\").agg({\n",
        "    \"casual\": \"mean\",\n",
        "    \"registered\": \"mean\"\n",
        "}).reset_index()\n",
        "\n",
        "plt.figure(figsize=(12, 6))\n",
        "\n",
        "# Subplot untuk hari libur vs bukan hari libur\n",
        "plt.subplot(1, 2, 2)\n",
        "sns.barplot(x=\"holiday\", y=\"casual\", data=holiday_grouped, color=\"blue\", label=\"Casual\")\n",
        "sns.barplot(x=\"holiday\", y=\"registered\", data=holiday_grouped, color=\"green\", alpha=0.6, label=\"Registered\")\n",
        "plt.title(\"Penggunaan Sepeda pada Hari Libur vs Bukan Hari Libur\")\n",
        "plt.xlabel(\"Jenis Hari\")\n",
        "plt.ylabel(\"Rata-rata Pengguna Sepeda\")\n",
        "plt.legend()\n",
        "\n",
        "plt.tight_layout()\n",
        "plt.show()"
      ]
    },
    {
      "cell_type": "markdown",
      "metadata": {
        "id": "9E8hKkxSdmNS"
      },
      "source": [
        "**Insight:**\n",
        "\n",
        "Penggunaan Sepeda pada Hari Libur vs Bukan Hari Libur:\n",
        "- Pengguna Kasual: Jelas lebih banyak pengguna kasual yang menyewa sepeda pada hari libur, menunjukkan bahwa pengguna kasual memanfaatkan hari libur untuk aktivitas rekreasi.\n",
        "- Pengguna Terdaftar: Tidak ada perubahan signifikan antara hari libur dan bukan hari libur untuk pengguna terdaftar, yang menunjukkan pola penggunaan yang lebih stabil."
      ]
    },
    {
      "cell_type": "markdown",
      "metadata": {
        "id": "9y4VUsmcYNZ5"
      },
      "source": [
        "## RFM Analysis\n"
      ]
    },
    {
      "cell_type": "code",
      "execution_count": null,
      "metadata": {
        "id": "iWhnzsJGYUCO"
      },
      "outputs": [],
      "source": [
        "# Menghitung Recency: Jumlah hari sejak terakhir kali menyewa sepeda\n",
        "day_df['dteday'] = pd.to_datetime(day_df['dteday'])\n",
        "reference_date = day_df['dteday'].max()  # Mengambil tanggal terakhir di dataset\n",
        "day_df['recency'] = (reference_date - day_df['dteday']).dt.days\n",
        "\n",
        "rfm_data = day_df.groupby(['workingday']).agg({\n",
        "    'recency': 'min',  # Mengambil nilai recency terendah\n",
        "    'casual': 'sum',   # Total pengguna kasual sebagai Frequency\n",
        "    'registered': 'sum'  # Total pengguna terdaftar sebagai Frequency\n",
        "}).reset_index()\n",
        "rfm_data"
      ]
    },
    {
      "cell_type": "code",
      "execution_count": null,
      "metadata": {
        "id": "isZZakbiVBG7"
      },
      "outputs": [],
      "source": [
        "# Menambahkan kolom Monetary: Total jumlah pengguna sebagai representasi monetari\n",
        "rfm_data['monetary_casual'] = day_df.groupby('workingday')['casual'].sum().values\n",
        "rfm_data['monetary_registered'] = day_df.groupby('workingday')['registered'].sum().values\n",
        "\n",
        "# Visualisasi seperti yang diinginkan\n",
        "fig, ax = plt.subplots(nrows=1, ncols=3, figsize=(30, 6))\n",
        "\n",
        "colors = [\"#72BCD4\", \"#72BCD4\", \"#72BCD4\", \"#72BCD4\", \"#72BCD4\"]\n",
        "\n",
        "# Barplot berdasarkan Recency\n",
        "sns.barplot(y=\"recency\", x=\"workingday\", data=rfm_data.sort_values(by=\"recency\", ascending=True).head(5), palette=colors, ax=ax[0])\n",
        "ax[0].set_ylabel(None)\n",
        "ax[0].set_xlabel(None)\n",
        "ax[0].set_title(\"By Recency (days)\", loc=\"center\", fontsize=18)\n",
        "ax[0].tick_params(axis='x', labelsize=15)\n",
        "\n",
        "# Barplot berdasarkan Frequency (Pengguna Kasual)\n",
        "sns.barplot(y=\"casual\", x=\"workingday\", data=rfm_data.sort_values(by=\"casual\", ascending=False).head(5), palette=colors, ax=ax[1])\n",
        "ax[1].set_ylabel(None)\n",
        "ax[1].set_xlabel(None)\n",
        "ax[1].set_title(\"By Frequency (Casual Users)\", loc=\"center\", fontsize=18)\n",
        "ax[1].tick_params(axis='x', labelsize=15)\n",
        "\n",
        "# Barplot berdasarkan Monetary (Pengguna Terdaftar)\n",
        "sns.barplot(y=\"registered\", x=\"workingday\", data=rfm_data.sort_values(by=\"registered\", ascending=False).head(5), palette=colors, ax=ax[2])\n",
        "ax[2].set_ylabel(None)\n",
        "ax[2].set_xlabel(None)\n",
        "ax[2].set_title(\"By Monetary (Registered Users)\", loc=\"center\", fontsize=18)\n",
        "ax[2].tick_params(axis='x', labelsize=15)\n",
        "\n",
        "plt.suptitle(\"Best Usage Based on RFM Parameters (workingday)\", fontsize=20)\n",
        "plt.show()"
      ]
    },
    {
      "cell_type": "markdown",
      "metadata": {
        "id": "hhQJhoscYpMr"
      },
      "source": [
        "**Insight**\n",
        "\n",
        "- Recency: Menampilkan 5 status hari kerja dengan recency terendah, yaitu pengguna yang baru saja menggunakan sepeda dalam beberapa hari terakhir.\n",
        "- Frequency (Kasual): Menampilkan 5 status hari kerja dengan frekuensi pengguna kasual tertinggi.\n",
        "- Monetary (Terdaftar): Menampilkan 5 status hari kerja dengan penggunaan terbesar oleh pengguna terdaftar.\n",
        "\n",
        "Insight dari Analisis:\n",
        "Recency (Penggunaan Terbaru):\n",
        "- Hari bukan kerja cenderung memiliki recency yang lebih tinggi, yang berarti pengguna sepeda (terutama pengguna kasual) cenderung tidak aktif di hari kerja dibandingkan pada hari libur atau akhir pekan.\n",
        "- Pengguna terdaftar lebih konsisten dalam menggunakan sepeda di hari kerja, dengan frekuensi penggunaan yang lebih stabil meskipun cuaca atau kondisi tertentu berubah.\n",
        "\n",
        "Frequency (Frekuensi Pengguna Kasual):\n",
        "- Pengguna kasual lebih sering menggunakan sepeda pada hari bukan kerja (akhir pekan), yang menunjukkan pola penggunaan yang terkait dengan aktivitas rekreasi. Pengguna kasual cenderung menyewa sepeda lebih banyak pada akhir pekan untuk bersenang-senang atau jalan-jalan.\n",
        "\n",
        "- Monetary (Pengguna Terdaftar):\n",
        "Pengguna terdaftar lebih sering menggunakan sepeda pada hari kerja. Ini menunjukkan bahwa sepeda digunakan oleh pengguna terdaftar sebagai sarana transportasi sehari-hari, misalnya untuk pergi bekerja atau beraktivitas rutin."
      ]
    },
    {
      "cell_type": "code",
      "execution_count": null,
      "metadata": {
        "id": "73Rw6uIgZOrW"
      },
      "outputs": [],
      "source": [
        "# Menambahkan ranking berdasarkan Recency, Frequency, dan Monetary\n",
        "rfm_data['r_rank'] = rfm_data['recency'].rank(ascending=False)  # Semakin kecil recency, semakin tinggi rank\n",
        "rfm_data['f_rank'] = rfm_data['casual'].rank(ascending=True)    # Semakin besar frequency, semakin tinggi rank\n",
        "rfm_data['m_rank'] = rfm_data['registered'].rank(ascending=True)  # Semakin besar monetary, semakin tinggi rank\n",
        "\n",
        "# Menampilkan hasil dari perhitungan rank\n",
        "rfm_data.head()"
      ]
    },
    {
      "cell_type": "markdown",
      "metadata": {
        "id": "v2xiQEQ5ZUls"
      },
      "source": [
        "**Insight**\n",
        "- r_rank: Ranking untuk Recency, semakin kecil nilai recency (artinya pengguna baru-baru ini menyewa sepeda), semakin tinggi peringkatnya.\n",
        "- f_rank: Ranking untuk Frequency yang dihitung berdasarkan jumlah sewa pengguna kasual. Semakin sering mereka menyewa sepeda, semakin tinggi peringkatnya.\n",
        "- m_rank: Ranking untuk Monetary, dihitung berdasarkan penggunaan sepeda oleh pengguna terdaftar. Semakin besar nilai moneternya, semakin tinggi peringkatnya"
      ]
    },
    {
      "cell_type": "code",
      "execution_count": null,
      "metadata": {
        "id": "QnT0OPxvihWG"
      },
      "outputs": [],
      "source": [
        "# Normalisasi ranking dari Recency, Frequency, dan Monetary\n",
        "rfm_data['r_rank_norm'] = (rfm_data['r_rank'] / rfm_data['r_rank'].max()) * 100\n",
        "rfm_data['f_rank_norm'] = (rfm_data['f_rank'] / rfm_data['f_rank'].max()) * 100\n",
        "rfm_data['m_rank_norm'] = (rfm_data['m_rank'] / rfm_data['m_rank'].max()) * 100\n",
        "\n",
        "# Menghapus kolom r_rank, f_rank, dan m_rank\n",
        "rfm_data.drop(columns=['r_rank', 'f_rank', 'm_rank'], inplace=True)\n",
        "\n",
        "# Menampilkan hasil dari normalisasi ranking\n",
        "rfm_data.head()"
      ]
    },
    {
      "cell_type": "markdown",
      "metadata": {
        "id": "JFekTDsTimKT"
      },
      "source": [
        "**Insight**\n",
        "- r_rank_norm, f_rank_norm, dan m_rank_norm: Melakukan normalisasi ranking dengan mengubah skala ranking ke persentase (dari 0 hingga 100), sehingga memudahkan interpretasi.\n",
        "- Penghapusan Kolom: Kolom r_rank, f_rank, dan m_rank dihapus setelah normalisasi, karena sudah tidak diperlukan lagi."
      ]
    },
    {
      "cell_type": "code",
      "execution_count": null,
      "metadata": {
        "id": "L8-qM775i8rb"
      },
      "outputs": [],
      "source": [
        "# Menghitung RFM score dengan bobot tertentu\n",
        "rfm_data['RFM_score'] = (0.15 * rfm_data['r_rank_norm']) + \\\n",
        "                        (0.28 * rfm_data['f_rank_norm']) + \\\n",
        "                        (0.57 * rfm_data['m_rank_norm'])\n",
        "\n",
        "# Skalakan RFM score\n",
        "rfm_data['RFM_score'] *= 0.05\n",
        "\n",
        "# Membulatkan nilai RFM_score menjadi 2 desimal\n",
        "rfm_data = rfm_data.round(2)\n",
        "\n",
        "# Menampilkan hasil dengan RFM_score\n",
        "rfm_data[['workingday', 'RFM_score']].head(7)"
      ]
    },
    {
      "cell_type": "code",
      "execution_count": null,
      "metadata": {
        "id": "C4GO37RUjDH1"
      },
      "outputs": [],
      "source": [
        "# Menambahkan segmentasi pelanggan berdasarkan RFM score\n",
        "rfm_data[\"bikers_segment\"] = np.where(\n",
        "    rfm_data['RFM_score'] > 4.5, \"Top customers\",\n",
        "    np.where(rfm_data['RFM_score'] > 4, \"High value customer\",\n",
        "    np.where(rfm_data['RFM_score'] > 3, \"Medium value customer\",\n",
        "    np.where(rfm_data['RFM_score'] > 1.6, 'Low value customers', 'Lost customers'))))\n",
        "\n",
        "# Menampilkan hasil dengan customer_id (dalam konteks Anda, kita bisa menggunakan 'workingday')\n",
        "rfm_data[['workingday', 'RFM_score', 'bikers_segment']].head(20)"
      ]
    },
    {
      "cell_type": "markdown",
      "metadata": {
        "id": "20CPN8ZRjZo3"
      },
      "source": [
        "**Insight**\n",
        "\n",
        "Segmentasi Pelanggan:\n",
        "- Top customers: Pelanggan dengan RFM score lebih dari 4.5.\n",
        "- High value customer: Pelanggan dengan RFM score lebih dari 4.\n",
        "- Medium value customer: Pelanggan dengan RFM score lebih dari 3.\n",
        "- Low value customers: Pelanggan dengan RFM score antara 1.6 dan 3.\n",
        "- Lost customers: Pelanggan dengan RFM score di bawah 1.6.\n",
        "\n",
        "np.where digunakan untuk membuat segmentasi dengan aturan bersyarat berdasarkan RFM score."
      ]
    },
    {
      "cell_type": "code",
      "execution_count": null,
      "metadata": {
        "id": "H7FQUV2vjnEq"
      },
      "outputs": [],
      "source": [
        "# Mengelompokkan data berdasarkan segmen pelanggan dan menghitung jumlah unik\n",
        "bikers_segment_df = rfm_data.groupby(by=\"bikers_segment\", as_index=False).workingday.nunique()\n",
        "\n",
        "# Menampilkan hasil\n",
        "bikers_segment_df"
      ]
    },
    {
      "cell_type": "code",
      "execution_count": null,
      "metadata": {
        "id": "kdXTcdr_k3ax"
      },
      "outputs": [],
      "source": [
        "# Mengubah segmentasi bikers dengan urutan yang sudah ditentukan\n",
        "bikers_segment_df['bikers_segment'] = pd.Categorical(bikers_segment_df['bikers_segment'], [\n",
        "    \"lost customers\", \"Low value customers\", \"Medium value customer\",\n",
        "    \"High value customer\", \"Top customers\"\n",
        "])\n",
        "\n",
        "# Menampilkan hasil bikers_segment_df\n",
        "bikers_segment_df.head()"
      ]
    },
    {
      "cell_type": "markdown",
      "metadata": {
        "id": "ESt29Zr2lH8F"
      },
      "source": [
        "pd.Categorical: Digunakan untuk membuat kolom customer_segment menjadi kategori dengan urutan yang sudah ditentukan.\n",
        "- Urutan segmen dimulai dari \"lost customers\" hingga \"Top customers.\"\n",
        "\n",
        "- bikers_segment_df: Nama dataframe yang digunakan untuk menyimpan data hasil segmentasi bikers, berdasarkan hasil dari pengelompokan sebelumnya."
      ]
    },
    {
      "cell_type": "markdown",
      "metadata": {
        "id": "_WeHlCeX8DC2"
      },
      "source": [
        "## Conclusion"
      ]
    },
    {
      "cell_type": "markdown",
      "metadata": {
        "id": "ZTcyR48Y8DC2"
      },
      "source": [
        "1. Bagaimana Pengaruh Cuaca terhadap Jumlah Pengguna Sepeda Kasual dan Terdaftar di Berbagai Musim?\n",
        "- Pengguna Kasual:\n",
        "Pengguna kasual lebih sensitif terhadap cuaca dan musim. Jumlah pengguna kasual meningkat secara signifikan pada cuaca yang cerah dan kondisi baik, terutama di Musim Panas dan Musim Gugur. Sebaliknya, pada Musim Dingin dan saat cuaca buruk (misalnya, hujan atau salju ringan), pengguna kasual berkurang drastis.\n",
        "- Pengguna Terdaftar:\n",
        "Pengguna terdaftar lebih stabil dalam penggunaan sepeda sepanjang tahun. Meskipun cuaca buruk dan musim dingin mempengaruhi mereka, pengurangan jumlah pengguna tidak se-drastis pengguna kasual. Pengguna terdaftar lebih mungkin menggunakan sepeda untuk keperluan transportasi harian seperti bekerja, sehingga mereka tidak terlalu terpengaruh oleh cuaca dibandingkan pengguna kasual.\n",
        "\n",
        "- Kesimpulan Utama:\n",
        "Cuaca baik dan musim hangat (Musim Panas dan Musim Gugur) mendorong lebih banyak penggunaan sepeda, terutama oleh pengguna kasual.\n",
        "Musim Dingin dan cuaca buruk berdampak signifikan pada penurunan jumlah pengguna kasual, sementara pengguna terdaftar lebih cenderung tetap aktif meskipun dengan sedikit penurunan."
      ]
    },
    {
      "cell_type": "markdown",
      "metadata": {
        "id": "uGSYvFP6eZ1n"
      },
      "source": [
        "2. Apakah Terdapat Pola Penggunaan Sepeda yang Signifikan antara Hari Kerja dan Hari Libur?\n",
        "- Pengguna Kasual:\n",
        "Pengguna kasual lebih aktif pada hari bukan kerja (akhir pekan) dan hari libur. Hal ini menunjukkan bahwa pengguna kasual menggunakan sepeda terutama untuk aktivitas rekreasi dan santai, yang biasanya dilakukan pada waktu luang.\n",
        "- Pengguna Terdaftar:\n",
        "Pengguna terdaftar lebih aktif pada hari kerja dibandingkan hari libur atau akhir pekan. Ini menunjukkan bahwa sepeda lebih sering digunakan sebagai alat transportasi untuk keperluan harian, seperti pergi bekerja atau kegiatan rutin lainnya. Perbedaan antara hari kerja dan hari libur tidak signifikan bagi mereka.\n",
        "\n",
        "- Kesimpulan Utama:\n",
        "Pengguna kasual lebih aktif di akhir pekan dan hari libur, yang menunjukkan bahwa penggunaan sepeda oleh mereka lebih terkait dengan rekreasi.\n",
        "Pengguna terdaftar lebih sering menggunakan sepeda di hari kerja, yang menunjukkan bahwa mereka menggunakan sepeda sebagai alat transportasi harian."
      ]
    },
    {
      "cell_type": "code",
      "execution_count": null,
      "metadata": {
        "id": "QwNzUHu3lO6B"
      },
      "outputs": [],
      "source": [
        "# Menggabungkan data menjadi satu dataframe\n",
        "all_df = pd.concat([rfm_data, bikers_segment_df], axis=1)\n",
        "\n",
        "# Menyimpan dataframe ke CSV\n",
        "all_df.to_csv(\"all_data.csv\", index=False)"
      ]
    },
    {
      "cell_type": "markdown",
      "metadata": {
        "id": "e0Snt-6plqiT"
      },
      "source": [
        "- pd.concat(): Digunakan untuk menggabungkan beberapa dataframe jika diperlukan.\n",
        "- .to_csv(): Menyimpan dataframe yang diinginkan ke dalam file CSV."
      ]
    }
  ],
  "metadata": {
    "colab": {
      "provenance": []
    },
    "kernelspec": {
      "display_name": "Python 3",
      "language": "python",
      "name": "python3"
    },
    "language_info": {
      "name": "python",
      "version": "3.8.0 (tags/v3.8.0:fa919fd, Oct 14 2019, 19:21:23) [MSC v.1916 32 bit (Intel)]"
    },
    "orig_nbformat": 4,
    "vscode": {
      "interpreter": {
        "hash": "972b3bf27e332e87b5379f2791f6ef9dfc79c71018c370b0d7423235e20fe4d7"
      }
    }
  },
  "nbformat": 4,
  "nbformat_minor": 0
}
